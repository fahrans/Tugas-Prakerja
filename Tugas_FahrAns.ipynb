{
  "nbformat": 4,
  "nbformat_minor": 0,
  "metadata": {
    "colab": {
      "provenance": [],
      "collapsed_sections": []
    },
    "kernelspec": {
      "name": "python3",
      "display_name": "Python 3"
    },
    "language_info": {
      "name": "python"
    }
  },
  "cells": [
    {
      "cell_type": "code",
      "execution_count": 29,
      "metadata": {
        "colab": {
          "base_uri": "https://localhost:8080/"
        },
        "id": "5IubsNjnuv1a",
        "outputId": "8a9f61d9-a2a2-44d7-d425-b1d84ecc8dbc"
      },
      "outputs": [
        {
          "output_type": "stream",
          "name": "stdout",
          "text": [
            "BUMI MANUSIA ASLI\n",
            "ANAK SEMUA BANGSA ASLI\n",
            "JEJAK LANGKAH BAJAKAN\n",
            "كتاب البيوع BAJAKAN\n",
            "AROK DEDES ASLI\n"
          ]
        },
        {
          "output_type": "execute_result",
          "data": {
            "text/plain": [
              "str"
            ]
          },
          "metadata": {},
          "execution_count": 29
        }
      ],
      "source": [
        "Buku = ['Bumi Manusia asli', 'Anak Semua Bangsa asli', 'Jejak Langkah bajakan', 'كتاب البيوع bajakan', 'Arok Dedes asli']\n",
        "print(Buku[0].upper())\n",
        "print(Buku[1].upper())\n",
        "print(Buku[2].upper())\n",
        "print(Buku[3].upper())\n",
        "print(Buku[4].upper())\n",
        "type(Buku[3])"
      ]
    },
    {
      "cell_type": "code",
      "source": [
        "Buku = ['Bumi Manusia asli', 'Anak Semua Bangsa asli', 'Jejak Langkah bajakan', 'كتاب البيوع bajakan', 'Arok Dedes asli']\n",
        "for aspal in Buku:\n",
        "  print(aspal.upper())"
      ],
      "metadata": {
        "colab": {
          "base_uri": "https://localhost:8080/"
        },
        "id": "CTU06XdFyZfO",
        "outputId": "2bc7375a-658d-4f1d-e8fe-593440cbb8c7"
      },
      "execution_count": null,
      "outputs": [
        {
          "output_type": "stream",
          "name": "stdout",
          "text": [
            "BUMI MANUSIA ASLI\n",
            "ANAK SEMUA BANGSA ASLI\n",
            "JEJAK LANGKAH BAJAKAN\n",
            "كتاب البيوع BAJAKAN\n",
            "AROK DEDES ASLI\n"
          ]
        }
      ]
    },
    {
      "cell_type": "code",
      "source": [
        "if \"bajakan\" in Buku[3]:\n",
        "  print(\"jangan beli \" + Buku[3]) "
      ],
      "metadata": {
        "colab": {
          "base_uri": "https://localhost:8080/"
        },
        "id": "d3zzlxKzzR3K",
        "outputId": "d466dc91-c374-4f83-c3ad-91e8df817991"
      },
      "execution_count": 33,
      "outputs": [
        {
          "output_type": "stream",
          "name": "stdout",
          "text": [
            "jangan beli كتاب البيوع bajakan\n"
          ]
        }
      ]
    }
  ]
}